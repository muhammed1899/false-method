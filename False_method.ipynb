{
  "nbformat": 4,
  "nbformat_minor": 0,
  "metadata": {
    "colab": {
      "provenance": [],
      "authorship_tag": "ABX9TyNGxuI5tn2/8n2mEWzDtjUm",
      "include_colab_link": true
    },
    "kernelspec": {
      "name": "python3",
      "display_name": "Python 3"
    },
    "language_info": {
      "name": "python"
    }
  },
  "cells": [
    {
      "cell_type": "markdown",
      "metadata": {
        "id": "view-in-github",
        "colab_type": "text"
      },
      "source": [
        "<a href=\"https://colab.research.google.com/github/muhammed1899/false-method/blob/main/False_method.ipynb\" target=\"_parent\"><img src=\"https://colab.research.google.com/assets/colab-badge.svg\" alt=\"Open In Colab\"/></a>"
      ]
    },
    {
      "cell_type": "code",
      "execution_count": null,
      "metadata": {
        "colab": {
          "base_uri": "https://localhost:8080/"
        },
        "id": "iRcJCAGZZQrD",
        "outputId": "3f1f5ff4-37b4-45b9-b38c-d99de36ea1ae"
      },
      "outputs": [
        {
          "output_type": "stream",
          "name": "stdout",
          "text": [
            "Result is  : 0.8846461771193157 \n"
          ]
        }
      ],
      "source": [
        "def falsePointMethod(f, a, b):\n",
        "    fa = f(a)\n",
        "    fb = f(b)\n",
        "    if fa * fb > 0:\n",
        "        print(\"there is no root\")\n",
        "        return None\n",
        "\n",
        "    for _ in range(50):\n",
        "        value = ((a * fb) - (b * fa)) / (fb - fa)\n",
        "\n",
        "        if f(value) == 0:\n",
        "            return value\n",
        "        if f(a) * f(value)> 0:\n",
        "            a = value\n",
        "            fa= f(value)\n",
        "        if f(b) * f(value) > 0:\n",
        "            b = value\n",
        "            fb = f(value)\n",
        "\n",
        "    return value\n",
        "\n",
        "\n",
        "fs = lambda x: 4 * x ** 3 - 2 * x - 1\n",
        "\n",
        "fromA= 0\n",
        "toB= 1\n",
        "\n",
        "result = falsePointMethod(fs, fromA, toB)\n",
        "print(f\"Result is  : {result} \")"
      ]
    }
  ]
}